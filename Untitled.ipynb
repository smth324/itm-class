{
 "cells": [
  {
   "cell_type": "code",
   "execution_count": 31,
   "id": "fc73fa18-7544-48c0-9a49-2578b37b8dea",
   "metadata": {},
   "outputs": [
    {
     "data": {
      "text/plain": [
       "3"
      ]
     },
     "execution_count": 31,
     "metadata": {},
     "output_type": "execute_result"
    }
   ],
   "source": [
    "def add(number1,number2):\n",
    "    return number1+number2\n",
    "\n",
    "int(add(1,2.01) // 1)"
   ]
  },
  {
   "cell_type": "code",
   "execution_count": 39,
   "id": "43fc81e1-d349-4e95-ba8b-20578ed54ff6",
   "metadata": {},
   "outputs": [
    {
     "name": "stdout",
     "output_type": "stream",
     "text": [
      "hello luch\n"
     ]
    }
   ],
   "source": [
    "def greet(name):\n",
    "    return \"hello \" + name\n",
    "\n",
    "name = greet(\"luch\")\n",
    "print(name)"
   ]
  },
  {
   "cell_type": "code",
   "execution_count": null,
   "id": "c3dd00d5-18fc-468c-8a57-d64a7226af45",
   "metadata": {},
   "outputs": [],
   "source": []
  }
 ],
 "metadata": {
  "kernelspec": {
   "display_name": "Python 3 (ipykernel)",
   "language": "python",
   "name": "python3"
  },
  "language_info": {
   "codemirror_mode": {
    "name": "ipython",
    "version": 3
   },
   "file_extension": ".py",
   "mimetype": "text/x-python",
   "name": "python",
   "nbconvert_exporter": "python",
   "pygments_lexer": "ipython3",
   "version": "3.12.7"
  }
 },
 "nbformat": 4,
 "nbformat_minor": 5
}
