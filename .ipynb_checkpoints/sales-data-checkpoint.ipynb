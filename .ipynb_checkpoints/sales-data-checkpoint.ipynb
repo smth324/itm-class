{
 "cells": [
  {
   "cell_type": "code",
   "execution_count": 11,
   "id": "0e6f514e-1956-446e-a5c2-ba0b31462c49",
   "metadata": {},
   "outputs": [],
   "source": [
    "import pandas as pd\n",
    "\n",
    "df = pd.read_csv('fct_invoice.csv')"
   ]
  },
  {
   "cell_type": "markdown",
   "id": "285244ba-7321-4d7a-991e-c49b255ff50a",
   "metadata": {},
   "source": [
    "Easy Question 1: How many unique customers are in the dataset?\n",
    "Answer: There are 5191 Unique Customers"
   ]
  },
  {
   "cell_type": "code",
   "execution_count": 13,
   "id": "c65cf25d-2cc2-4a46-84ce-12f7078c3957",
   "metadata": {},
   "outputs": [
    {
     "data": {
      "text/plain": [
       "5191"
      ]
     },
     "execution_count": 13,
     "metadata": {},
     "output_type": "execute_result"
    }
   ],
   "source": [
    "unique_customers = df['customer_id'].nunique()\n",
    "unique_customers"
   ]
  },
  {
   "cell_type": "markdown",
   "id": "61fbbe52-63f4-4552-8cae-cf8ec0006223",
   "metadata": {},
   "source": [
    "Easy Question 2: What are the different categories of products available? How many unique categories are there?\n",
    "Answer: The categories are 'Clothing', 'Shoes', 'Books', 'Cosmetics', 'Food & Beverage',\n",
    "       'Toys', 'Technology', 'Souvenir' and there are 8 unique ones."
   ]
  },
  {
   "cell_type": "code",
   "execution_count": 19,
   "id": "92a2df7c-0a3f-46bf-b17d-a92de16df8f3",
   "metadata": {},
   "outputs": [
    {
     "data": {
      "text/plain": [
       "array(['Clothing', 'Shoes', 'Books', 'Cosmetics', 'Food & Beverage',\n",
       "       'Toys', 'Technology', 'Souvenir'], dtype=object)"
      ]
     },
     "execution_count": 19,
     "metadata": {},
     "output_type": "execute_result"
    }
   ],
   "source": [
    "df_unique_categories = df['category'].unique()\n",
    "df_unique_categories"
   ]
  },
  {
   "cell_type": "code",
   "execution_count": 18,
   "id": "f1a12408-0cc2-4cbe-82c9-fe1b18e3181d",
   "metadata": {},
   "outputs": [
    {
     "data": {
      "text/plain": [
       "8"
      ]
     },
     "execution_count": 18,
     "metadata": {},
     "output_type": "execute_result"
    }
   ],
   "source": [
    "len(df_unique_categories)"
   ]
  },
  {
   "cell_type": "markdown",
   "id": "8db8e7ad-3ab1-4ab2-a490-9eba1d93a713",
   "metadata": {},
   "source": [
    "Easy Question 3: Which payment method is the most popular? How many times was it used?\n",
    "Answer: Cash is the most popular. It was used 44447 times"
   ]
  },
  {
   "cell_type": "code",
   "execution_count": 22,
   "id": "cfb6196d-76b3-4efd-a42d-092bf1e83504",
   "metadata": {},
   "outputs": [
    {
     "data": {
      "text/plain": [
       "payment_method\n",
       "Cash           44447\n",
       "Credit Card    34931\n",
       "Debit Card     20079\n",
       "Name: count, dtype: int64"
      ]
     },
     "execution_count": 22,
     "metadata": {},
     "output_type": "execute_result"
    }
   ],
   "source": [
    "df_payment_methods = df['payment_method'].value_counts()\n",
    "df_payment_methods"
   ]
  },
  {
   "cell_type": "markdown",
   "id": "b0159a28-0d98-4d08-8dbf-8fc01f954cda",
   "metadata": {},
   "source": [
    "Medium Question 1. What are the three most popular categories, by total sales?\n",
    "Answer: The three most popular categories by total sales are Clothing, Shoes and Technology"
   ]
  },
  {
   "cell_type": "code",
   "execution_count": 32,
   "id": "600577f9-2746-4787-a528-f0f56e675369",
   "metadata": {},
   "outputs": [
    {
     "data": {
      "text/html": [
       "<div>\n",
       "<style scoped>\n",
       "    .dataframe tbody tr th:only-of-type {\n",
       "        vertical-align: middle;\n",
       "    }\n",
       "\n",
       "    .dataframe tbody tr th {\n",
       "        vertical-align: top;\n",
       "    }\n",
       "\n",
       "    .dataframe thead th {\n",
       "        text-align: right;\n",
       "    }\n",
       "</style>\n",
       "<table border=\"1\" class=\"dataframe\">\n",
       "  <thead>\n",
       "    <tr style=\"text-align: right;\">\n",
       "      <th></th>\n",
       "      <th>total</th>\n",
       "    </tr>\n",
       "    <tr>\n",
       "      <th>category</th>\n",
       "      <th></th>\n",
       "    </tr>\n",
       "  </thead>\n",
       "  <tbody>\n",
       "    <tr>\n",
       "      <th>Clothing</th>\n",
       "      <td>1.139968e+08</td>\n",
       "    </tr>\n",
       "    <tr>\n",
       "      <th>Shoes</th>\n",
       "      <td>6.655345e+07</td>\n",
       "    </tr>\n",
       "    <tr>\n",
       "      <th>Technology</th>\n",
       "      <td>5.786235e+07</td>\n",
       "    </tr>\n",
       "  </tbody>\n",
       "</table>\n",
       "</div>"
      ],
      "text/plain": [
       "                   total\n",
       "category                \n",
       "Clothing    1.139968e+08\n",
       "Shoes       6.655345e+07\n",
       "Technology  5.786235e+07"
      ]
     },
     "execution_count": 32,
     "metadata": {},
     "output_type": "execute_result"
    }
   ],
   "source": [
    "df['total'] = df['price'] * df['quantity']\n",
    "df_sales_by_categories = df[['category','total']].groupby('category').sum()\n",
    "largest_three = df_sales_by_categories.nlargest(3, 'total')\n",
    "largest_three"
   ]
  },
  {
   "cell_type": "markdown",
   "id": "2a3a09ca-b920-4209-9e8b-198b6698b225",
   "metadata": {},
   "source": [
    "Medium 2. What are the total sales attributed to customers over the age of 45?\n",
    "Answer: 82039768.15"
   ]
  },
  {
   "cell_type": "code",
   "execution_count": 44,
   "id": "0b496f17-23be-4491-91e3-aa6f7d1b6943",
   "metadata": {},
   "outputs": [
    {
     "data": {
      "text/plain": [
       "82039768.15"
      ]
     },
     "execution_count": 44,
     "metadata": {},
     "output_type": "execute_result"
    }
   ],
   "source": [
    "df_customer_data = pd.read_json('dim_customer.json')\n",
    "df_customer_data = df_customer_data.rename(columns={'id': 'customer_id'})\n",
    "merged_df = pd.merge(df, df_customer_data, on='customer_id')\n",
    "asd = merged_df[merged_df['age'] > 45]['total'].sum()\n",
    "asd"
   ]
  },
  {
   "cell_type": "code",
   "execution_count": null,
   "id": "4121dff8-0b52-47f7-b63c-a539daa4dc07",
   "metadata": {},
   "outputs": [],
   "source": []
  }
 ],
 "metadata": {
  "kernelspec": {
   "display_name": "Python 3 (ipykernel)",
   "language": "python",
   "name": "python3"
  },
  "language_info": {
   "codemirror_mode": {
    "name": "ipython",
    "version": 3
   },
   "file_extension": ".py",
   "mimetype": "text/x-python",
   "name": "python",
   "nbconvert_exporter": "python",
   "pygments_lexer": "ipython3",
   "version": "3.12.7"
  }
 },
 "nbformat": 4,
 "nbformat_minor": 5
}
