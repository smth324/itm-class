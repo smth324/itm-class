{
 "cells": [
  {
   "cell_type": "code",
   "execution_count": 35,
   "id": "54df60ea-57ed-487a-bc98-c52dc38da59c",
   "metadata": {},
   "outputs": [
    {
     "ename": "AttributeError",
     "evalue": "'int' object has no attribute 'strftime'",
     "output_type": "error",
     "traceback": [
      "\u001b[1;31m---------------------------------------------------------------------------\u001b[0m",
      "\u001b[1;31mAttributeError\u001b[0m                            Traceback (most recent call last)",
      "Cell \u001b[1;32mIn[35], line 46\u001b[0m\n\u001b[0;32m     44\u001b[0m     latitudes\u001b[38;5;241m.\u001b[39mappend(point[\u001b[38;5;124m\"\u001b[39m\u001b[38;5;124mlatitude\u001b[39m\u001b[38;5;124m\"\u001b[39m])\n\u001b[0;32m     45\u001b[0m     longitudes\u001b[38;5;241m.\u001b[39mappend(point[\u001b[38;5;124m\"\u001b[39m\u001b[38;5;124mlongitude\u001b[39m\u001b[38;5;124m\"\u001b[39m])\n\u001b[1;32m---> 46\u001b[0m     timestamps\u001b[38;5;241m.\u001b[39mappend(datetime\u001b[38;5;241m.\u001b[39mdatetime\u001b[38;5;241m.\u001b[39mfromtimestamp(point[\u001b[38;5;124m\"\u001b[39m\u001b[38;5;124mtimestamp\u001b[39m\u001b[38;5;124m\"\u001b[39m]\u001b[38;5;241m.\u001b[39mstrftime(\u001b[38;5;124m\"\u001b[39m\u001b[38;5;124m%\u001b[39m\u001b[38;5;124mH:\u001b[39m\u001b[38;5;124m%\u001b[39m\u001b[38;5;124mM:\u001b[39m\u001b[38;5;124m%\u001b[39m\u001b[38;5;124mS\u001b[39m\u001b[38;5;124m\"\u001b[39m), datetime\u001b[38;5;241m.\u001b[39mUTC))\n\u001b[0;32m     48\u001b[0m plt\u001b[38;5;241m.\u001b[39mfigure(figsize\u001b[38;5;241m=\u001b[39m(\u001b[38;5;241m10\u001b[39m, \u001b[38;5;241m5\u001b[39m))\n\u001b[0;32m     49\u001b[0m plt\u001b[38;5;241m.\u001b[39mscatter(longitudes, latitudes)\n",
      "\u001b[1;31mAttributeError\u001b[0m: 'int' object has no attribute 'strftime'"
     ]
    }
   ],
   "source": [
    "# commented code was to extract data points and store them in a separate file\n",
    "# import requests\n",
    "# import time\n",
    "# import json\n",
    "\n",
    "# url = \"https://api.wheretheiss.at/v1/satellites/25544\"\n",
    "# datapoints = 0\n",
    "\n",
    "# datalist = []\n",
    "\n",
    "# while True:\n",
    "#     if datapoints == 100:\n",
    "#         break\n",
    "\n",
    "#     try:\n",
    "#         data = json.loads(requests.get(url).text)\n",
    "#         datalist.append(\n",
    "#             {\n",
    "#                 \"longitude\": data[\"longitude\"],\n",
    "#                 \"latitude\": data[\"latitude\"],\n",
    "#                 \"timestamp\": data[\"timestamp\"],\n",
    "#             }\n",
    "#         )\n",
    "#         print(datapoints)\n",
    "#     except:\n",
    "#         print(\"Error\")\n",
    "#     datapoints += 1\n",
    "#     time.sleep(10)\n",
    "\n",
    "# text_file = open(\"iss_data.txt\", \"w\")\n",
    "# text_file.write(str(datalist))\n",
    "# text_file.close()\n",
    "\n",
    "# plots the datapoints\n",
    "from iss_data import datapoints\n",
    "import matplotlib.pyplot as plt\n",
    "import datetime\n",
    "\n",
    "latitudes = []\n",
    "longitudes = []\n",
    "timestamps = []\n",
    "\n",
    "for point in datapoints:\n",
    "    latitudes.append(point[\"latitude\"])\n",
    "    longitudes.append(point[\"longitude\"])\n",
    "    timestamps.append(datetime.datetime.fromtimestamp(point[\"timestamp\"].strftime(\"%H:%M:%S\"), datetime.UTC))\n",
    "\n",
    "plt.figure(figsize=(10, 5))\n",
    "plt.scatter(longitudes, latitudes)\n",
    "\n",
    "for i in range(0, len(timestamps), 5):\n",
    "    plt.text(longitudes[i], latitudes[i], timestamps[i], fontsize=8, ha='right', va='bottom')\n",
    "    \n",
    "plt.title(\"ISS Path with Time\")\n",
    "plt.xlabel(\"Longitude\")\n",
    "plt.ylabel(\"Latitude\")\n",
    "\n",
    "plt.grid(True)\n",
    "plt.show()"
   ]
  },
  {
   "cell_type": "code",
   "execution_count": null,
   "id": "2fe170ae-6a43-43ef-8d8f-a1376358d6aa",
   "metadata": {},
   "outputs": [],
   "source": []
  }
 ],
 "metadata": {
  "kernelspec": {
   "display_name": "Python 3 (ipykernel)",
   "language": "python",
   "name": "python3"
  },
  "language_info": {
   "codemirror_mode": {
    "name": "ipython",
    "version": 3
   },
   "file_extension": ".py",
   "mimetype": "text/x-python",
   "name": "python",
   "nbconvert_exporter": "python",
   "pygments_lexer": "ipython3",
   "version": "3.12.7"
  }
 },
 "nbformat": 4,
 "nbformat_minor": 5
}
