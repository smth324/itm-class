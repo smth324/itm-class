{
 "cells": [
  {
   "cell_type": "code",
   "execution_count": 11,
   "id": "0e6f514e-1956-446e-a5c2-ba0b31462c49",
   "metadata": {},
   "outputs": [],
   "source": [
    "import pandas as pd\n",
    "\n",
    "df = pd.read_csv('fct_invoice.csv')"
   ]
  },
  {
   "cell_type": "markdown",
   "id": "285244ba-7321-4d7a-991e-c49b255ff50a",
   "metadata": {},
   "source": [
    "Easy Question 1: How many unique customers are in the dataset?\n",
    "Answer: There are 5191 Unique Customers"
   ]
  },
  {
   "cell_type": "code",
   "execution_count": 13,
   "id": "c65cf25d-2cc2-4a46-84ce-12f7078c3957",
   "metadata": {},
   "outputs": [
    {
     "data": {
      "text/plain": [
       "5191"
      ]
     },
     "execution_count": 13,
     "metadata": {},
     "output_type": "execute_result"
    }
   ],
   "source": [
    "unique_customers = df['customer_id'].nunique()\n",
    "unique_customers"
   ]
  },
  {
   "cell_type": "markdown",
   "id": "61fbbe52-63f4-4552-8cae-cf8ec0006223",
   "metadata": {},
   "source": [
    "Easy Question 2: What are the different categories of products available? How many unique categories are there?\n",
    "Answer: The categories are 'Clothing', 'Shoes', 'Books', 'Cosmetics', 'Food & Beverage',\n",
    "       'Toys', 'Technology', 'Souvenir' and there are 8 unique ones."
   ]
  },
  {
   "cell_type": "code",
   "execution_count": 19,
   "id": "92a2df7c-0a3f-46bf-b17d-a92de16df8f3",
   "metadata": {},
   "outputs": [
    {
     "data": {
      "text/plain": [
       "array(['Clothing', 'Shoes', 'Books', 'Cosmetics', 'Food & Beverage',\n",
       "       'Toys', 'Technology', 'Souvenir'], dtype=object)"
      ]
     },
     "execution_count": 19,
     "metadata": {},
     "output_type": "execute_result"
    }
   ],
   "source": [
    "df_unique_categories = df['category'].unique()\n",
    "df_unique_categories"
   ]
  },
  {
   "cell_type": "code",
   "execution_count": 18,
   "id": "f1a12408-0cc2-4cbe-82c9-fe1b18e3181d",
   "metadata": {},
   "outputs": [
    {
     "data": {
      "text/plain": [
       "8"
      ]
     },
     "execution_count": 18,
     "metadata": {},
     "output_type": "execute_result"
    }
   ],
   "source": [
    "len(df_unique_categories)"
   ]
  },
  {
   "cell_type": "markdown",
   "id": "8db8e7ad-3ab1-4ab2-a490-9eba1d93a713",
   "metadata": {},
   "source": [
    "Easy Question 3: Which payment method is the most popular? How many times was it used?\n",
    "Answer: Cash is the most popular. It was used 44447 times"
   ]
  },
  {
   "cell_type": "code",
   "execution_count": 22,
   "id": "cfb6196d-76b3-4efd-a42d-092bf1e83504",
   "metadata": {},
   "outputs": [
    {
     "data": {
      "text/plain": [
       "payment_method\n",
       "Cash           44447\n",
       "Credit Card    34931\n",
       "Debit Card     20079\n",
       "Name: count, dtype: int64"
      ]
     },
     "execution_count": 22,
     "metadata": {},
     "output_type": "execute_result"
    }
   ],
   "source": [
    "df_payment_methods = df['payment_method'].value_counts()\n",
    "df_payment_methods"
   ]
  },
  {
   "cell_type": "markdown",
   "id": "b0159a28-0d98-4d08-8dbf-8fc01f954cda",
   "metadata": {},
   "source": [
    "Medium Question 1. What are the three most popular categories, by total sales?\n",
    "Answer: The three most popular categories by total sales are Clothing, Shoes and Technology"
   ]
  },
  {
   "cell_type": "code",
   "execution_count": 32,
   "id": "600577f9-2746-4787-a528-f0f56e675369",
   "metadata": {},
   "outputs": [
    {
     "data": {
      "text/html": [
       "<div>\n",
       "<style scoped>\n",
       "    .dataframe tbody tr th:only-of-type {\n",
       "        vertical-align: middle;\n",
       "    }\n",
       "\n",
       "    .dataframe tbody tr th {\n",
       "        vertical-align: top;\n",
       "    }\n",
       "\n",
       "    .dataframe thead th {\n",
       "        text-align: right;\n",
       "    }\n",
       "</style>\n",
       "<table border=\"1\" class=\"dataframe\">\n",
       "  <thead>\n",
       "    <tr style=\"text-align: right;\">\n",
       "      <th></th>\n",
       "      <th>total</th>\n",
       "    </tr>\n",
       "    <tr>\n",
       "      <th>category</th>\n",
       "      <th></th>\n",
       "    </tr>\n",
       "  </thead>\n",
       "  <tbody>\n",
       "    <tr>\n",
       "      <th>Clothing</th>\n",
       "      <td>1.139968e+08</td>\n",
       "    </tr>\n",
       "    <tr>\n",
       "      <th>Shoes</th>\n",
       "      <td>6.655345e+07</td>\n",
       "    </tr>\n",
       "    <tr>\n",
       "      <th>Technology</th>\n",
       "      <td>5.786235e+07</td>\n",
       "    </tr>\n",
       "  </tbody>\n",
       "</table>\n",
       "</div>"
      ],
      "text/plain": [
       "                   total\n",
       "category                \n",
       "Clothing    1.139968e+08\n",
       "Shoes       6.655345e+07\n",
       "Technology  5.786235e+07"
      ]
     },
     "execution_count": 32,
     "metadata": {},
     "output_type": "execute_result"
    }
   ],
   "source": [
    "df['total'] = df['price'] * df['quantity']\n",
    "df_sales_by_categories = df[['category','total']].groupby('category').sum()\n",
    "largest_three = df_sales_by_categories.nlargest(3, 'total')\n",
    "largest_three"
   ]
  },
  {
   "cell_type": "markdown",
   "id": "2a3a09ca-b920-4209-9e8b-198b6698b225",
   "metadata": {},
   "source": [
    "Medium Question 2. What are the total sales attributed to customers over the age of 45?\n",
    "Answer: 82039768.15"
   ]
  },
  {
   "cell_type": "code",
   "execution_count": 117,
   "id": "0b496f17-23be-4491-91e3-aa6f7d1b6943",
   "metadata": {},
   "outputs": [
    {
     "data": {
      "text/plain": [
       "82039768.15"
      ]
     },
     "execution_count": 117,
     "metadata": {},
     "output_type": "execute_result"
    }
   ],
   "source": [
    "df_customer_data = pd.read_json('dim_customer.json')\n",
    "merged_df = pd.merge(df, df_customer_data, left_on='customer_id', right_on='id')\n",
    "sales_over_45 = merged_df[merged_df['age'] > 45]['total'].sum()\n",
    "sales_over_45"
   ]
  },
  {
   "cell_type": "markdown",
   "id": "56c01a07-c8ae-4e46-9e16-ec119084033d",
   "metadata": {},
   "source": [
    "Medium Question 3. How is the data distributed across different invoice dates? Are there any seasonal trends or patterns? (Use a graph for this.)\n",
    "Answer: There are higher sales during December and January but fall offf quicklya after that. There are also some high points during July and October"
   ]
  },
  {
   "cell_type": "code",
   "execution_count": 124,
   "id": "08982f72-897d-4b6b-b81c-5291d8ae1f6d",
   "metadata": {},
   "outputs": [
    {
     "data": {
      "text/plain": [
       "<Axes: xlabel='month'>"
      ]
     },
     "execution_count": 124,
     "metadata": {},
     "output_type": "execute_result"
    },
    {
     "data": {
      "image/png": "[encoded data removed]",
      "text/plain": [
       "<Figure size 640x480 with 1 Axes>"
      ]
     },
     "metadata": {},
     "output_type": "display_data"
    }
   ],
   "source": [
    "merged_df['month'] = pd.to_datetime(merged_df['invoice_date'], format='%d/%m/%Y').dt.to_period(\"M\")\n",
    "monthly_sales = merged_df.groupby('month')['total'].sum()\n",
    "\n",
    "monthly_sales.index = monthly_sales.index.to_timestamp()\n",
    "monthly_sales.plot.bar()"
   ]
  },
  {
   "cell_type": "markdown",
   "id": "dbdc6473-c972-4ca8-bd47-42222854e632",
   "metadata": {},
   "source": [
    "Hard Question 1. Create a pivot table showing the breakdown of sales across these dimensions, in this order: category, decade age range (e.g., 10-19, 20-29, and so forth)."
   ]
  },
  {
   "cell_type": "code",
   "execution_count": 178,
   "id": "8e0ae510-745a-47a3-9a7e-923cefe31d6c",
   "metadata": {},
   "outputs": [
    {
     "data": {
      "text/html": [
       "<div>\n",
       "<style scoped>\n",
       "    .dataframe tbody tr th:only-of-type {\n",
       "        vertical-align: middle;\n",
       "    }\n",
       "\n",
       "    .dataframe tbody tr th {\n",
       "        vertical-align: top;\n",
       "    }\n",
       "\n",
       "    .dataframe thead th {\n",
       "        text-align: right;\n",
       "    }\n",
       "</style>\n",
       "<table border=\"1\" class=\"dataframe\">\n",
       "  <thead>\n",
       "    <tr style=\"text-align: right;\">\n",
       "      <th>category</th>\n",
       "      <th>Books</th>\n",
       "      <th>Clothing</th>\n",
       "      <th>Cosmetics</th>\n",
       "      <th>Food &amp; Beverage</th>\n",
       "      <th>Shoes</th>\n",
       "      <th>Souvenir</th>\n",
       "      <th>Technology</th>\n",
       "      <th>Toys</th>\n",
       "    </tr>\n",
       "    <tr>\n",
       "      <th>age_group</th>\n",
       "      <th></th>\n",
       "      <th></th>\n",
       "      <th></th>\n",
       "      <th></th>\n",
       "      <th></th>\n",
       "      <th></th>\n",
       "      <th></th>\n",
       "      <th></th>\n",
       "    </tr>\n",
       "  </thead>\n",
       "  <tbody>\n",
       "    <tr>\n",
       "      <th>10-19</th>\n",
       "      <td>19891.95</td>\n",
       "      <td>3029007.52</td>\n",
       "      <td>178009.48</td>\n",
       "      <td>20433.61</td>\n",
       "      <td>1367187.26</td>\n",
       "      <td>20128.68</td>\n",
       "      <td>1772400.0</td>\n",
       "      <td>98273.28</td>\n",
       "    </tr>\n",
       "    <tr>\n",
       "      <th>20-29</th>\n",
       "      <td>80128.35</td>\n",
       "      <td>10079987.28</td>\n",
       "      <td>594733.82</td>\n",
       "      <td>74271.23</td>\n",
       "      <td>6152942.84</td>\n",
       "      <td>53570.91</td>\n",
       "      <td>5049450.0</td>\n",
       "      <td>380011.52</td>\n",
       "    </tr>\n",
       "    <tr>\n",
       "      <th>30-39</th>\n",
       "      <td>84446.10</td>\n",
       "      <td>11516170.16</td>\n",
       "      <td>722406.22</td>\n",
       "      <td>89187.19</td>\n",
       "      <td>7178633.37</td>\n",
       "      <td>63705.63</td>\n",
       "      <td>6231750.0</td>\n",
       "      <td>426460.16</td>\n",
       "    </tr>\n",
       "    <tr>\n",
       "      <th>40-49</th>\n",
       "      <td>82946.25</td>\n",
       "      <td>10933114.72</td>\n",
       "      <td>656740.32</td>\n",
       "      <td>85034.57</td>\n",
       "      <td>6775319.13</td>\n",
       "      <td>65007.66</td>\n",
       "      <td>5840100.0</td>\n",
       "      <td>378864.64</td>\n",
       "    </tr>\n",
       "    <tr>\n",
       "      <th>50-59</th>\n",
       "      <td>79537.50</td>\n",
       "      <td>10819684.48</td>\n",
       "      <td>621366.12</td>\n",
       "      <td>77686.42</td>\n",
       "      <td>6268175.48</td>\n",
       "      <td>57594.30</td>\n",
       "      <td>4662000.0</td>\n",
       "      <td>357002.24</td>\n",
       "    </tr>\n",
       "    <tr>\n",
       "      <th>60-69</th>\n",
       "      <td>76234.80</td>\n",
       "      <td>10004067.04</td>\n",
       "      <td>599735.00</td>\n",
       "      <td>76127.88</td>\n",
       "      <td>5499357.71</td>\n",
       "      <td>51482.97</td>\n",
       "      <td>5218500.0</td>\n",
       "      <td>340659.20</td>\n",
       "    </tr>\n",
       "    <tr>\n",
       "      <th>70-79</th>\n",
       "      <td>56251.95</td>\n",
       "      <td>7871098.40</td>\n",
       "      <td>427824.52</td>\n",
       "      <td>55584.44</td>\n",
       "      <td>4718536.54</td>\n",
       "      <td>38439.21</td>\n",
       "      <td>3773700.0</td>\n",
       "      <td>285608.96</td>\n",
       "    </tr>\n",
       "    <tr>\n",
       "      <th>80-89</th>\n",
       "      <td>21103.95</td>\n",
       "      <td>3739897.04</td>\n",
       "      <td>214684.80</td>\n",
       "      <td>25334.12</td>\n",
       "      <td>2125201.97</td>\n",
       "      <td>20234.25</td>\n",
       "      <td>1449000.0</td>\n",
       "      <td>126336.00</td>\n",
       "    </tr>\n",
       "  </tbody>\n",
       "</table>\n",
       "</div>"
      ],
      "text/plain": [
       "category      Books     Clothing  Cosmetics  Food & Beverage       Shoes  \\\n",
       "age_group                                                                  \n",
       "10-19      19891.95   3029007.52  178009.48         20433.61  1367187.26   \n",
       "20-29      80128.35  10079987.28  594733.82         74271.23  6152942.84   \n",
       "30-39      84446.10  11516170.16  722406.22         89187.19  7178633.37   \n",
       "40-49      82946.25  10933114.72  656740.32         85034.57  6775319.13   \n",
       "50-59      79537.50  10819684.48  621366.12         77686.42  6268175.48   \n",
       "60-69      76234.80  10004067.04  599735.00         76127.88  5499357.71   \n",
       "70-79      56251.95   7871098.40  427824.52         55584.44  4718536.54   \n",
       "80-89      21103.95   3739897.04  214684.80         25334.12  2125201.97   \n",
       "\n",
       "category   Souvenir  Technology       Toys  \n",
       "age_group                                   \n",
       "10-19      20128.68   1772400.0   98273.28  \n",
       "20-29      53570.91   5049450.0  380011.52  \n",
       "30-39      63705.63   6231750.0  426460.16  \n",
       "40-49      65007.66   5840100.0  378864.64  \n",
       "50-59      57594.30   4662000.0  357002.24  \n",
       "60-69      51482.97   5218500.0  340659.20  \n",
       "70-79      38439.21   3773700.0  285608.96  \n",
       "80-89      20234.25   1449000.0  126336.00  "
      ]
     },
     "execution_count": 178,
     "metadata": {},
     "output_type": "execute_result"
    }
   ],
   "source": [
    "# df_1019 = merged_df[(merged_df['age'] >= 10) & (merged_df['age'] <= 19)][['total','category']].groupby('category').sum().rename(columns={'total': '10-19'})\n",
    "# df_2029 = merged_df[(merged_df['age'] >= 20) & (merged_df['age'] <= 29)][['total','category']].groupby('category').sum().rename(columns={'total': '20-29'})\n",
    "\n",
    "# asdf = pd.merge(df_1019,df_2029,on='category')\n",
    "# asdf\n",
    "merged_df['age_group'] = pd.cut(\n",
    "    merged_df['age'],\n",
    "    bins=range(10, 100, 10),\n",
    "    labels=[f\"{i}-{i+9}\" for i in range(10, 90, 10)],\n",
    "    right=True\n",
    ")\n",
    "pivot = merged_df.pivot_table(\n",
    "    index='age_group',\n",
    "    columns='category',\n",
    "    values='total',\n",
    "    aggfunc='sum',\n",
    "    observed=False\n",
    ")\n",
    "pivot"
   ]
  },
  {
   "cell_type": "code",
   "execution_count": null,
   "id": "834ed6bf-4a0f-4104-84aa-6912b57191be",
   "metadata": {},
   "outputs": [],
   "source": []
  }
 ],
 "metadata": {
  "kernelspec": {
   "display_name": "Python 3 (ipykernel)",
   "language": "python",
   "name": "python3"
  },
  "language_info": {
   "codemirror_mode": {
    "name": "ipython",
    "version": 3
   },
   "file_extension": ".py",
   "mimetype": "text/x-python",
   "name": "python",
   "nbconvert_exporter": "python",
   "pygments_lexer": "ipython3",
   "version": "3.12.7"
  }
 },
 "nbformat": 4,
 "nbformat_minor": 5
}
