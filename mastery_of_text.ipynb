{
 "cells": [
  {
   "cell_type": "code",
   "execution_count": 2,
   "id": "1e03a16a-93cf-4b26-a9b6-c358935d7fe9",
   "metadata": {},
   "outputs": [
    {
     "name": "stdout",
     "output_type": "stream",
     "text": [
      "Number of lines: 99968\n",
      "Total Words: 795227\n",
      "Apostle Appearance: 113\n",
      "Most Common Word: the\n"
     ]
    }
   ],
   "source": [
    "import urllib\n",
    "\n",
    "url = \"https://www.gutenberg.org/cache/epub/10/pg10.txt\"\n",
    "pg10 = urllib.request.urlopen(url)\n",
    "\n",
    "number_of_lines = 0\n",
    "total_words = 0\n",
    "apostle_appearance = 0\n",
    "\n",
    "dictionary = {}\n",
    "most_common_word = \"\"\n",
    "most_common_word_number = 0\n",
    "\n",
    "\n",
    "for line in pg10:\n",
    "    # extracts text from the line as a string\n",
    "    line_text = line.decode(\"utf-8-sig\").lower()\n",
    "\n",
    "    # [1] counts the number of lines in the text\n",
    "    number_of_lines += 1\n",
    "\n",
    "    # removes non alphabetical characters from the text\n",
    "    cleaned_text = \"\"\n",
    "    for letter in line_text:\n",
    "        if letter.isalpha():\n",
    "            cleaned_text += letter\n",
    "        else:\n",
    "            cleaned_text += \" \"\n",
    "\n",
    "    # [2] counts total words\n",
    "    total_words += len(cleaned_text.split())\n",
    "\n",
    "    # [3] counts the number of times the word \"apostle\" appears in the line\n",
    "    apostle_appearance += line_text.count(\"apostle\")\n",
    "\n",
    "    # [4] counts the number of times a word appears and stores in\n",
    "    for text in cleaned_text.split():\n",
    "        if text in dictionary.keys():\n",
    "            dictionary[text] = dictionary[text] + 1\n",
    "        else:\n",
    "            dictionary[text] = 1\n",
    "\n",
    "# [4] gets the greatest value in the dictionary\n",
    "for words in list(dictionary.keys()):\n",
    "    if dictionary[words] > most_common_word_number:\n",
    "        most_common_word = words\n",
    "        most_common_word_number = dictionary[words]\n",
    "        \n",
    "print(\"Number of lines:\", number_of_lines)\n",
    "print(\"Total Words:\", total_words)\n",
    "print(\"Apostle Appearance:\", apostle_appearance)\n",
    "print(\"Most Common Word:\", most_common_word)"
   ]
  },
  {
   "cell_type": "code",
   "execution_count": null,
   "id": "b70e8a8d-4800-4203-a151-916178f448a8",
   "metadata": {},
   "outputs": [],
   "source": []
  }
 ],
 "metadata": {
  "kernelspec": {
   "display_name": "Python 3 (ipykernel)",
   "language": "python",
   "name": "python3"
  },
  "language_info": {
   "codemirror_mode": {
    "name": "ipython",
    "version": 3
   },
   "file_extension": ".py",
   "mimetype": "text/x-python",
   "name": "python",
   "nbconvert_exporter": "python",
   "pygments_lexer": "ipython3",
   "version": "3.12.7"
  }
 },
 "nbformat": 4,
 "nbformat_minor": 5
}
