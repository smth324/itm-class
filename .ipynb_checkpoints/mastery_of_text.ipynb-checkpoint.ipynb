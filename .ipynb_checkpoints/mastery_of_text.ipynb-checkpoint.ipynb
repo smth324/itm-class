{
 "cells": [
  {
   "cell_type": "code",
   "execution_count": null,
   "id": "1e03a16a-93cf-4b26-a9b6-c358935d7fe9",
   "metadata": {},
   "outputs": [],
   "source": [
    "import urllib\n",
    "\n",
    "url = \"https://www.gutenberg.org/cache/epub/10/pg10.txt\"\n",
    "pg10 = urllib.request.urlopen(url)\n",
    "\n",
    "pages = 0\n",
    "for line in pg10:\n",
    "    pages = pages + 1\n",
    "\n",
    "pages"
   ]
  },
  {
   "cell_type": "code",
   "execution_count": null,
   "id": "b70e8a8d-4800-4203-a151-916178f448a8",
   "metadata": {},
   "outputs": [],
   "source": []
  }
 ],
 "metadata": {
  "kernelspec": {
   "display_name": "Python 3 (ipykernel)",
   "language": "python",
   "name": "python3"
  },
  "language_info": {
   "codemirror_mode": {
    "name": "ipython",
    "version": 3
   },
   "file_extension": ".py",
   "mimetype": "text/x-python",
   "name": "python",
   "nbconvert_exporter": "python",
   "pygments_lexer": "ipython3",
   "version": "3.12.7"
  }
 },
 "nbformat": 4,
 "nbformat_minor": 5
}
