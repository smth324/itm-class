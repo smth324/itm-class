{
 "cells": [
  {
   "cell_type": "code",
   "execution_count": null,
   "id": "54df60ea-57ed-487a-bc98-c52dc38da59c",
   "metadata": {},
   "outputs": [
    {
     "name": "stdout",
     "output_type": "stream",
     "text": [
      "Error\n",
      "Error\n",
      "Error\n",
      "Error\n",
      "Error\n",
      "Error\n",
      "Error\n",
      "Error\n",
      "Error\n",
      "Error\n",
      "Error\n",
      "Error\n",
      "Error\n"
     ]
    }
   ],
   "source": [
    "import requests\n",
    "import time\n",
    "import json\n",
    "\n",
    "url = \"https://api.wheretheiss.at/v1/satellites/25544\"\n",
    "datapoints = 0\n",
    "\n",
    "datalist = []\n",
    "\n",
    "while True:\n",
    "    if datapoints == 100:\n",
    "        break\n",
    "\n",
    "    try:\n",
    "        data = json.loads(requests.get(url).text)\n",
    "        datalist.append(\n",
    "            {\n",
    "                \"longitude\": data[\"longitude\"],\n",
    "                \"latitude\": data[\"latitude\"],\n",
    "                \"timestamp\": data[\"timestamp\"],\n",
    "            }\n",
    "        )\n",
    "        datapoints += 1\n",
    "        print(\"Point \" + str(datapoints) + \" \" + str(data[\"longitude\"]) + \" \" + str(data[\"latitude\"]) + \" \" + str(data[\"timestamp\"]))\n",
    "        time.sleep(10)\n",
    "    except:\n",
    "        print(\"Error\")\n",
    "    \n",
    "\n",
    "# plots the datapoints\n",
    "import matplotlib.pyplot as plt\n",
    "import datetime\n",
    "\n",
    "latitudes = []\n",
    "longitudes = []\n",
    "timestamps = []\n",
    "\n",
    "for point in datalist:\n",
    "    latitudes.append(point[\"latitude\"])\n",
    "    longitudes.append(point[\"longitude\"])\n",
    "    timestamps.append(datetime.datetime.fromtimestamp(point[\"timestamp\"], datetime.UTC).strftime(\"%H:%M:%S\"))\n",
    "\n",
    "plt.figure(figsize=(12, 5))\n",
    "plt.scatter(longitudes, latitudes)\n",
    "\n",
    "for i in range(0, len(timestamps), 5):\n",
    "    plt.text(longitudes[i], latitudes[i], timestamps[i], fontsize=7, ha='right', va='bottom')\n",
    "    \n",
    "plt.title(\"ISS Path with Time\")\n",
    "plt.xlabel(\"Longitude\")\n",
    "plt.ylabel(\"Latitude\")\n",
    "\n",
    "plt.grid(True)\n",
    "plt.show()"
   ]
  },
  {
   "cell_type": "code",
   "execution_count": null,
   "id": "6b240ae0-5053-4f06-87ea-6386eba05d94",
   "metadata": {},
   "outputs": [],
   "source": []
  }
 ],
 "metadata": {
  "kernelspec": {
   "display_name": "Python 3 (ipykernel)",
   "language": "python",
   "name": "python3"
  },
  "language_info": {
   "codemirror_mode": {
    "name": "ipython",
    "version": 3
   },
   "file_extension": ".py",
   "mimetype": "text/x-python",
   "name": "python",
   "nbconvert_exporter": "python",
   "pygments_lexer": "ipython3",
   "version": "3.12.7"
  }
 },
 "nbformat": 4,
 "nbformat_minor": 5
}
